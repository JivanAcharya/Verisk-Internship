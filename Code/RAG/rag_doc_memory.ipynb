{
 "cells": [
  {
   "cell_type": "code",
   "execution_count": 42,
   "metadata": {},
   "outputs": [],
   "source": [
    "import getpass\n",
    "import os\n",
    "\n",
    "os.environ[\"LANGSMITH_TRACING\"] = \"true\"\n",
    "if not os.environ.get(\"LANGSMITH_API_KEY\"):\n",
    "  os.environ[\"LANGSMITH_API_KEY\"] = getpass.getpass()\n",
    "\n",
    "if not os.environ.get(\"GROQ_API_KEY\"):\n",
    "  os.environ[\"GROQ_API_KEY\"] = getpass.getpass(\"Enter API key for Groq: \")\n"
   ]
  },
  {
   "cell_type": "code",
   "execution_count": 43,
   "metadata": {},
   "outputs": [],
   "source": [
    "\n",
    "from langchain.chat_models import init_chat_model\n",
    "\n",
    "llm = init_chat_model(\"llama-3.1-8b-instant\", model_provider=\"groq\")"
   ]
  },
  {
   "cell_type": "code",
   "execution_count": 44,
   "metadata": {},
   "outputs": [
    {
     "data": {
      "text/plain": [
       "AIMessage(content='Here are 5 universities in Nepal:\\n\\n1. Tribhuvan University (TU) - Located in Kirtipur, Kathmandu, it is the oldest and largest university in Nepal.\\n2. Kathmandu University (KU) - Located in Dhulikhel, Kavrepalanchok, it is a private, non-profit university.\\n3. Pokhara University (PU) - Located in Pokhara, Kaski, it is a private university and is known for its emphasis on research and innovation.\\n4. Purbanchal University (PU) - Located in Biratnagar, Morang, it is a public university and is known for its strong programs in engineering and management.\\n5. Patan Academy of Health Sciences (PAHS) - Located in Lalitpur, Lalitpur, it is a public university and is known for its strong programs in health sciences.\\n\\nPlease note that this is not an exhaustive list and there are many other universities in Nepal as well.', additional_kwargs={}, response_metadata={'token_usage': {'completion_tokens': 207, 'prompt_tokens': 41, 'total_tokens': 248, 'completion_time': 0.276, 'prompt_time': 0.001975239, 'queue_time': 0.503952661, 'total_time': 0.277975239}, 'model_name': 'llama-3.1-8b-instant', 'system_fingerprint': 'fp_f0102502c4', 'finish_reason': 'stop', 'logprobs': None}, id='run-c9019faa-330d-4f3d-bd24-ccf6dd71ab53-0', usage_metadata={'input_tokens': 41, 'output_tokens': 207, 'total_tokens': 248})"
      ]
     },
     "execution_count": 44,
     "metadata": {},
     "output_type": "execute_result"
    }
   ],
   "source": [
    "llm.invoke(\"list 5 universities in Nepal\")"
   ]
  },
  {
   "cell_type": "code",
   "execution_count": 45,
   "metadata": {},
   "outputs": [],
   "source": [
    "from langchain_huggingface import HuggingFaceEmbeddings\n",
    "\n",
    "embeddings = HuggingFaceEmbeddings(model_name=\"sentence-transformers/all-mpnet-base-v2\")"
   ]
  },
  {
   "cell_type": "code",
   "execution_count": 46,
   "metadata": {},
   "outputs": [],
   "source": [
    "#initialize the vector store\n",
    "from langchain_chroma import Chroma\n",
    "\n",
    "vector_store = Chroma(embedding_function=embeddings)"
   ]
  },
  {
   "cell_type": "markdown",
   "metadata": {},
   "source": []
  },
  {
   "cell_type": "code",
   "execution_count": 47,
   "metadata": {},
   "outputs": [],
   "source": [
    "\n",
    "from langchain import hub\n",
    "from langchain_community.document_loaders import TextLoader\n",
    "from langchain_core.documents import Document\n",
    "from langchain_text_splitters import RecursiveCharacterTextSplitter\n",
    "\n",
    "# Load and chunk contents of the blog\n",
    "loader = TextLoader(\"expanded_descriptions.txt\")\n",
    "docs = loader.load()\n",
    "\n",
    "text_splitter = RecursiveCharacterTextSplitter(chunk_size=2000, chunk_overlap=500)\n",
    "all_splits = text_splitter.split_documents(docs)\n"
   ]
  },
  {
   "cell_type": "code",
   "execution_count": 48,
   "metadata": {},
   "outputs": [],
   "source": [
    "# Index chunks\n",
    "_ = vector_store.add_documents(documents=all_splits)\n"
   ]
  },
  {
   "cell_type": "markdown",
   "metadata": {},
   "source": [
    "\n",
    "    User input as a HumanMessage;\n",
    "    Vector store query as an AIMessage with tool calls;\n",
    "    Retrieved documents as a ToolMessage;\n",
    "    Final response as a AIMessage.\n"
   ]
  },
  {
   "cell_type": "code",
   "execution_count": 66,
   "metadata": {},
   "outputs": [],
   "source": [
    "from langgraph.graph import MessagesState, StateGraph\n",
    "\n",
    "graph_builder = StateGraph(MessagesState)"
   ]
  },
  {
   "cell_type": "code",
   "execution_count": 54,
   "metadata": {},
   "outputs": [],
   "source": [
    "from langchain_core.tools import tool\n",
    "\n",
    "\n",
    "@tool(response_format=\"content_and_artifact\")\n",
    "def retrieve(query: str):\n",
    "    \"\"\"Retrieve information related to a query.\"\"\"\n",
    "    retrieved_docs = vector_store.similarity_search(query, k=2)\n",
    "    serialized = \"\\n\\n\".join(\n",
    "        (f\"Source: {doc.metadata}\\n\" f\"Content: {doc.page_content}\")\n",
    "        for doc in retrieved_docs\n",
    "    )\n",
    "    return serialized, retrieved_docs"
   ]
  },
  {
   "cell_type": "code",
   "execution_count": 55,
   "metadata": {},
   "outputs": [],
   "source": [
    "resp = retrieve(\"What is the top univeristy in Boston ?\")"
   ]
  },
  {
   "cell_type": "code",
   "execution_count": 56,
   "metadata": {},
   "outputs": [
    {
     "data": {
      "text/plain": [
       "\"Source: {'source': 'expanded_descriptions.txt'}\\nContent: Boston University\\nBoston University, situated in the vibrant city of Boston, United States, is a prestigious institution of higher learning that has consistently ranked among the top universities globally, currently standing at 75th position. With a rich history and a strong commitment to academic excellence, Boston University has established itself as a hub for intellectual inquiry, innovation, and discovery.\\n\\nAcademically, Boston University boasts an impressive array of subjects, catering to a diverse range of interests and career aspirations. The university offers a broad spectrum of programs in fields such as Other Health, Politics & International Studies, Sociology, Mechanical & Aerospace Engineering, Education, and many more. This comprehensive range of academic disciplines enables students to explore their passions and interests, while also developing a strong foundation for future success.\\n\\nThe university's faculty is comprised of renowned scholars and experts in their respective fields, who are dedicated to providing students with a world-class education. The Teaching Score of 60.5 is a testament to the university's commitment to pedagogical excellence, ensuring that students receive a high-quality learning experience. The Research Score of 56.2 further underscores the university's emphasis on scholarly inquiry and innovation, with faculty members actively engaged in cutting-edge research that addresses some of the world's most pressing challenges.\\n\\nBoston University's research impact is significant, with a Citations Score of 93.2, indicating the university's research output is widely cited and respected globally. The university's research endeavors are characterized by a strong focus on interdisciplinary collaboration, fostering a culture of innovation and creativity. From the sciences and engineering to the humanities and social sciences, Boston University's research initiatives are designed to drive positive change and address complex problems.\\n\\nSource: {'source': 'expanded_descriptions.txt'}\\nContent: Boston University\\nBoston University, situated in the vibrant city of Boston, United States, is a prestigious institution of higher learning that has consistently ranked among the top universities globally, currently standing at 75th position. With a rich history and a strong commitment to academic excellence, Boston University has established itself as a hub for intellectual inquiry, innovation, and discovery.\\n\\nAcademically, Boston University boasts an impressive array of subjects, catering to a diverse range of interests and career aspirations. The university offers a broad spectrum of programs in fields such as Other Health, Politics & International Studies, Sociology, Mechanical & Aerospace Engineering, Education, and many more. This comprehensive range of academic disciplines enables students to explore their passions and interests, while also developing a strong foundation for future success.\\n\\nThe university's faculty is comprised of renowned scholars and experts in their respective fields, who are dedicated to providing students with a world-class education. The Teaching Score of 60.5 is a testament to the university's commitment to pedagogical excellence, ensuring that students receive a high-quality learning experience. The Research Score of 56.2 further underscores the university's emphasis on scholarly inquiry and innovation, with faculty members actively engaged in cutting-edge research that addresses some of the world's most pressing challenges.\\n\\nBoston University's research impact is significant, with a Citations Score of 93.2, indicating the university's research output is widely cited and respected globally. The university's research endeavors are characterized by a strong focus on interdisciplinary collaboration, fostering a culture of innovation and creativity. From the sciences and engineering to the humanities and social sciences, Boston University's research initiatives are designed to drive positive change and address complex problems.\""
      ]
     },
     "execution_count": 56,
     "metadata": {},
     "output_type": "execute_result"
    }
   ],
   "source": [
    "resp"
   ]
  },
  {
   "cell_type": "code",
   "execution_count": 57,
   "metadata": {},
   "outputs": [],
   "source": [
    "from langchain_core.messages import SystemMessage\n",
    "from langgraph.prebuilt import ToolNode\n",
    "\n",
    "\n",
    "# Generate an AIMessage that may include a tool-call to be sent.\n",
    "def query_or_respond(state: MessagesState):\n",
    "    \"\"\"Generate tool call for retrieval or respond.\"\"\"\n",
    "    llm_with_tools = llm.bind_tools([retrieve])\n",
    "    response = llm_with_tools.invoke(state[\"messages\"])\n",
    "   \n",
    "    return {\"messages\": [response]}\n",
    "\n",
    "\n",
    "# execute the retrieval.\n",
    "tools = ToolNode([retrieve])\n",
    "\n",
    "\n",
    "#g enerate a response using the retrieved content.\n",
    "def generate(state: MessagesState):\n",
    "    \"\"\"Generate answer.\"\"\"\n",
    "    \n",
    "    recent_tool_messages = []\n",
    "    for message in reversed(state[\"messages\"]):\n",
    "        if message.type == \"tool\":\n",
    "            recent_tool_messages.append(message)\n",
    "        else:\n",
    "            break\n",
    "    tool_messages = recent_tool_messages[::-1]\n",
    "\n",
    "    docs_content = \"\\n\\n\".join(doc.content for doc in tool_messages)\n",
    "    system_message_content = (\n",
    "        \"You are a universities consultant for United States \"\n",
    "        \"You only answer the queries realted to universities in America\"\n",
    "        \"Use the following pieces of retrieved context to answer \"\n",
    "        \"the question. If you don't know the answer, say that you \"\n",
    "        \"don't know. Use three sentences maximum and keep the \"\n",
    "        \"answer concise.\"\n",
    "        \"\\n\\n\"\n",
    "        f\"{docs_content}\"\n",
    "    )\n",
    "    conversation_messages = [\n",
    "        message\n",
    "        for message in state[\"messages\"]\n",
    "        if message.type in (\"human\", \"system\")\n",
    "        or (message.type == \"ai\" and not message.tool_calls)\n",
    "    ]\n",
    "    prompt = [SystemMessage(system_message_content)] + conversation_messages\n",
    "\n",
    "    # Run\n",
    "    response = llm.invoke(prompt)\n",
    "    return {\"messages\": [response]}"
   ]
  },
  {
   "cell_type": "code",
   "execution_count": 67,
   "metadata": {},
   "outputs": [],
   "source": [
    "from langgraph.graph import END\n",
    "from langgraph.prebuilt import ToolNode, tools_condition\n",
    "\n",
    "graph_builder.add_node(query_or_respond)\n",
    "graph_builder.add_node(tools)\n",
    "graph_builder.add_node(generate)\n",
    "\n",
    "graph_builder.set_entry_point(\"query_or_respond\")\n",
    "graph_builder.add_conditional_edges(\n",
    "    \"query_or_respond\",\n",
    "    tools_condition,\n",
    "    {END: END, \"tools\": \"tools\"},\n",
    ")\n",
    "graph_builder.add_edge(\"tools\", \"generate\")\n",
    "graph_builder.add_edge(\"generate\", END)\n",
    "\n",
    "graph = graph_builder.compile()"
   ]
  },
  {
   "cell_type": "code",
   "execution_count": 68,
   "metadata": {},
   "outputs": [
    {
     "data": {
      "image/png": "[encoded data removed]",
      "text/plain": [
       "<IPython.core.display.Image object>"
      ]
     },
     "metadata": {},
     "output_type": "display_data"
    }
   ],
   "source": [
    "from IPython.display import Image, display\n",
    "\n",
    "display(Image(graph.get_graph().draw_mermaid_png()))"
   ]
  },
  {
   "cell_type": "code",
   "execution_count": 69,
   "metadata": {},
   "outputs": [
    {
     "name": "stdout",
     "output_type": "stream",
     "text": [
      "================================\u001b[1m Human Message \u001b[0m=================================\n",
      "\n",
      "Hello\n",
      "==================================\u001b[1m Ai Message \u001b[0m==================================\n",
      "\n",
      "I'm ready to help. What would you like to know or discuss?\n"
     ]
    }
   ],
   "source": [
    "input_message = \"Hello\"\n",
    "\n",
    "for step in graph.stream(\n",
    "    {\"messages\": [{\"role\": \"user\", \"content\": input_message}]},\n",
    "    stream_mode=\"values\",\n",
    "):\n",
    "    step[\"messages\"][-1].pretty_print()"
   ]
  },
  {
   "cell_type": "code",
   "execution_count": 70,
   "metadata": {},
   "outputs": [
    {
     "name": "stdout",
     "output_type": "stream",
     "text": [
      "================================\u001b[1m Human Message \u001b[0m=================================\n",
      "\n",
      "What are some good universities in Boston?\n",
      "==================================\u001b[1m Ai Message \u001b[0m==================================\n",
      "Tool Calls:\n",
      "  retrieve (call_xcvh)\n",
      " Call ID: call_xcvh\n",
      "  Args:\n",
      "    query: good universities in Boston\n",
      "=================================\u001b[1m Tool Message \u001b[0m=================================\n",
      "Name: retrieve\n",
      "\n",
      "Source: {'source': 'expanded_descriptions.txt'}\n",
      "Content: Boston University\n",
      "Boston University, situated in the vibrant city of Boston, United States, is a prestigious institution of higher learning that has consistently ranked among the top universities globally, currently standing at 75th position. With a rich history and a strong commitment to academic excellence, Boston University has established itself as a hub for intellectual inquiry, innovation, and discovery.\n",
      "\n",
      "Academically, Boston University boasts an impressive array of subjects, catering to a diverse range of interests and career aspirations. The university offers a broad spectrum of programs in fields such as Other Health, Politics & International Studies, Sociology, Mechanical & Aerospace Engineering, Education, and many more. This comprehensive range of academic disciplines enables students to explore their passions and interests, while also developing a strong foundation for future success.\n",
      "\n",
      "The university's faculty is comprised of renowned scholars and experts in their respective fields, who are dedicated to providing students with a world-class education. The Teaching Score of 60.5 is a testament to the university's commitment to pedagogical excellence, ensuring that students receive a high-quality learning experience. The Research Score of 56.2 further underscores the university's emphasis on scholarly inquiry and innovation, with faculty members actively engaged in cutting-edge research that addresses some of the world's most pressing challenges.\n",
      "\n",
      "Boston University's research impact is significant, with a Citations Score of 93.2, indicating the university's research output is widely cited and respected globally. The university's research endeavors are characterized by a strong focus on interdisciplinary collaboration, fostering a culture of innovation and creativity. From the sciences and engineering to the humanities and social sciences, Boston University's research initiatives are designed to drive positive change and address complex problems.\n",
      "\n",
      "Source: {'source': 'expanded_descriptions.txt'}\n",
      "Content: Boston University\n",
      "Boston University, situated in the vibrant city of Boston, United States, is a prestigious institution of higher learning that has consistently ranked among the top universities globally, currently standing at 75th position. With a rich history and a strong commitment to academic excellence, Boston University has established itself as a hub for intellectual inquiry, innovation, and discovery.\n",
      "\n",
      "Academically, Boston University boasts an impressive array of subjects, catering to a diverse range of interests and career aspirations. The university offers a broad spectrum of programs in fields such as Other Health, Politics & International Studies, Sociology, Mechanical & Aerospace Engineering, Education, and many more. This comprehensive range of academic disciplines enables students to explore their passions and interests, while also developing a strong foundation for future success.\n",
      "\n",
      "The university's faculty is comprised of renowned scholars and experts in their respective fields, who are dedicated to providing students with a world-class education. The Teaching Score of 60.5 is a testament to the university's commitment to pedagogical excellence, ensuring that students receive a high-quality learning experience. The Research Score of 56.2 further underscores the university's emphasis on scholarly inquiry and innovation, with faculty members actively engaged in cutting-edge research that addresses some of the world's most pressing challenges.\n",
      "\n",
      "Boston University's research impact is significant, with a Citations Score of 93.2, indicating the university's research output is widely cited and respected globally. The university's research endeavors are characterized by a strong focus on interdisciplinary collaboration, fostering a culture of innovation and creativity. From the sciences and engineering to the humanities and social sciences, Boston University's research initiatives are designed to drive positive change and address complex problems.\n",
      "==================================\u001b[1m Ai Message \u001b[0m==================================\n",
      "\n",
      "Boston is home to several top-ranked universities. Some of the notable ones include Boston University, ranked 75th globally, and Harvard University, ranked 2nd globally.\n"
     ]
    }
   ],
   "source": [
    "input_message = \"What are some good universities in Boston?\"\n",
    "\n",
    "for step in graph.stream(\n",
    "    {\"messages\": [{\"role\": \"user\", \"content\": input_message}]},\n",
    "    stream_mode=\"values\",\n",
    "):\n",
    "    step[\"messages\"][-1].pretty_print()"
   ]
  },
  {
   "cell_type": "code",
   "execution_count": 39,
   "metadata": {},
   "outputs": [
    {
     "ename": "NameError",
     "evalue": "name 'graph_builder' is not defined",
     "output_type": "error",
     "traceback": [
      "\u001b[0;31m---------------------------------------------------------------------------\u001b[0m",
      "\u001b[0;31mNameError\u001b[0m                                 Traceback (most recent call last)",
      "Cell \u001b[0;32mIn[39], line 4\u001b[0m\n\u001b[1;32m      1\u001b[0m \u001b[38;5;28;01mfrom\u001b[39;00m\u001b[38;5;250m \u001b[39m\u001b[38;5;21;01mlanggraph\u001b[39;00m\u001b[38;5;21;01m.\u001b[39;00m\u001b[38;5;21;01mcheckpoint\u001b[39;00m\u001b[38;5;21;01m.\u001b[39;00m\u001b[38;5;21;01mmemory\u001b[39;00m\u001b[38;5;250m \u001b[39m\u001b[38;5;28;01mimport\u001b[39;00m MemorySaver\n\u001b[1;32m      3\u001b[0m memory \u001b[38;5;241m=\u001b[39m MemorySaver()\n\u001b[0;32m----> 4\u001b[0m graph \u001b[38;5;241m=\u001b[39m \u001b[43mgraph_builder\u001b[49m\u001b[38;5;241m.\u001b[39mcompile(checkpointer\u001b[38;5;241m=\u001b[39mmemory)\n\u001b[1;32m      6\u001b[0m \u001b[38;5;66;03m#id for the thread\u001b[39;00m\n\u001b[1;32m      7\u001b[0m config \u001b[38;5;241m=\u001b[39m {\u001b[38;5;124m\"\u001b[39m\u001b[38;5;124mconfigurable\u001b[39m\u001b[38;5;124m\"\u001b[39m : {\u001b[38;5;124m\"\u001b[39m\u001b[38;5;124mthread_id\u001b[39m\u001b[38;5;124m\"\u001b[39m : \u001b[38;5;124m\"\u001b[39m\u001b[38;5;124mtest49\u001b[39m\u001b[38;5;124m\"\u001b[39m}}\n",
      "\u001b[0;31mNameError\u001b[0m: name 'graph_builder' is not defined"
     ]
    }
   ],
   "source": [
    "from langgraph.checkpoint.memory import MemorySaver\n",
    "\n",
    "memory = MemorySaver()\n",
    "graph = graph_builder.compile(checkpointer=memory)\n",
    "\n",
    "#id for the thread\n",
    "config = {\"configurable\" : {\"thread_id\" : \"test49\"}}"
   ]
  },
  {
   "cell_type": "code",
   "execution_count": 71,
   "metadata": {},
   "outputs": [
    {
     "name": "stdout",
     "output_type": "stream",
     "text": [
      "================================\u001b[1m Human Message \u001b[0m=================================\n",
      "\n",
      "List 5 universities in London.\n",
      "==================================\u001b[1m Ai Message \u001b[0m==================================\n",
      "Tool Calls:\n",
      "  retrieve (call_0g50)\n",
      " Call ID: call_0g50\n",
      "  Args:\n",
      "    query: universities in London\n",
      "=================================\u001b[1m Tool Message \u001b[0m=================================\n",
      "Name: retrieve\n",
      "\n",
      "Source: {'source': 'expanded_descriptions.txt'}\n",
      "Content: Overall, Pace University-New York is a dynamic and inclusive institution that offers a unique and transformative educational experience. With its strong global reputation, commitment to academic excellence, and vibrant campus life, the university is an attractive destination for students from around the world who are seeking a high-quality education and a platform for personal and professional growth.\n",
      "\n",
      "\n",
      "\n",
      "\n",
      " Bentley University\n",
      "Bentley University, situated in the heart of Waltham, Massachusetts, United States, is a prestigious institution renowned for its academic excellence, innovative research, and commitment to fostering a dynamic campus community. As a globally recognized university, Bentley has established itself as a leader in providing high-quality education, with a strong focus on preparing students for successful careers in a rapidly evolving world.\n",
      "\n",
      "With a student population of 4,784, Bentley offers a unique and personalized learning experience, allowing students to thrive in a supportive and inclusive environment. The university's diverse student body, comprising 17% international students, creates a rich cultural tapestry, enabling students to engage with peers from diverse backgrounds and gain valuable global perspectives.\n",
      "\n",
      "Bentley University's academic portfolio is comprehensive and diverse, offering a wide range of subjects across various disciplines. Students can choose from a broad spectrum of programs, including Computer Science, Law, Business & Management, Communication & Media Studies, Mathematics & Statistics, Sociology, Economics & Econometrics, Art, Performing Arts & Design, Politics & International Studies (including Development Studies), Accounting & Finance, Psychology, History, Philosophy & Theology, and Languages, Literature & Linguistics. This extensive range of academic offerings enables students to explore their interests, develop their passions, and acquire the skills and knowledge required to excel in their chosen fields.\n",
      "\n",
      "Source: {'source': 'expanded_descriptions.txt'}\n",
      "Content: Overall, Pace University-New York is a dynamic and inclusive institution that offers a unique and transformative educational experience. With its strong global reputation, commitment to academic excellence, and vibrant campus life, the university is an attractive destination for students from around the world who are seeking a high-quality education and a platform for personal and professional growth.\n",
      "\n",
      "\n",
      "\n",
      "\n",
      " Bentley University\n",
      "Bentley University, situated in the heart of Waltham, Massachusetts, United States, is a prestigious institution renowned for its academic excellence, innovative research, and commitment to fostering a dynamic campus community. As a globally recognized university, Bentley has established itself as a leader in providing high-quality education, with a strong focus on preparing students for successful careers in a rapidly evolving world.\n",
      "\n",
      "With a student population of 4,784, Bentley offers a unique and personalized learning experience, allowing students to thrive in a supportive and inclusive environment. The university's diverse student body, comprising 17% international students, creates a rich cultural tapestry, enabling students to engage with peers from diverse backgrounds and gain valuable global perspectives.\n",
      "\n",
      "Bentley University's academic portfolio is comprehensive and diverse, offering a wide range of subjects across various disciplines. Students can choose from a broad spectrum of programs, including Computer Science, Law, Business & Management, Communication & Media Studies, Mathematics & Statistics, Sociology, Economics & Econometrics, Art, Performing Arts & Design, Politics & International Studies (including Development Studies), Accounting & Finance, Psychology, History, Philosophy & Theology, and Languages, Literature & Linguistics. This extensive range of academic offerings enables students to explore their interests, develop their passions, and acquire the skills and knowledge required to excel in their chosen fields.\n",
      "==================================\u001b[1m Ai Message \u001b[0m==================================\n",
      "\n",
      "I'm a consultant for universities in the United States. I don't have information on universities in London.\n"
     ]
    }
   ],
   "source": [
    "input_message = \"List 5 universities in London.\"\n",
    "\n",
    "for step in graph.stream(\n",
    "    {\"messages\": [{\"role\": \"user\", \"content\": input_message}]},\n",
    "    stream_mode=\"values\",\n",
    "    config=config,\n",
    "):\n",
    "    step[\"messages\"][-1].pretty_print()"
   ]
  },
  {
   "cell_type": "code",
   "execution_count": 64,
   "metadata": {},
   "outputs": [
    {
     "name": "stdout",
     "output_type": "stream",
     "text": [
      "================================\u001b[1m Human Message \u001b[0m=================================\n",
      "\n",
      "Can you explain more about the first one ?\n",
      "==================================\u001b[1m Ai Message \u001b[0m==================================\n",
      "Tool Calls:\n",
      "  retrieve (call_hyyk)\n",
      " Call ID: call_hyyk\n",
      "  Args:\n",
      "    query: Capital of France\n",
      "=================================\u001b[1m Tool Message \u001b[0m=================================\n",
      "Name: retrieve\n",
      "\n",
      "Source: {'source': 'expanded_descriptions.txt'}\n",
      "Content: University of Notre Dame\n",
      "The University of Notre Dame, situated in the United States, is a prestigious institution renowned for its academic excellence, vibrant campus life, and profound research impact. With a global ranking of 196, this esteemed university has established itself as a hub for intellectual curiosity and innovation.\n",
      "\n",
      "Academically, the University of Notre Dame boasts an impressive array of subjects, catering to a diverse range of interests and career aspirations. The institution offers a broad spectrum of disciplines, including Chemistry, Biological Sciences, Computer Science, History, Philosophy & Theology, Accounting & Finance, Art, Performing Arts & Design, Psychology, Mathematics & Statistics, Languages, Literature & Linguistics, Chemical Engineering, Economics & Econometrics, Physics & Astronomy, Politics & International Studies (including Development Studies), Architecture, Law, General Engineering, Mechanical & Aerospace Engineering, Civil Engineering, Sociology, Business & Management, Education, Electrical & Electronic Engineering, Geology, Environmental, Earth & Marine Sciences, and Communication & Media Studies. This comprehensive range of subjects enables students to explore their passions and develop a deep understanding of their chosen field.\n",
      "\n",
      "The university's academic excellence is further underscored by its impressive scores, with a Citations Score of 72.4, a Research Score of 45.1, and a Teaching Score of 53.2. These metrics demonstrate the institution's commitment to fostering a culture of research, innovation, and pedagogical excellence. The university's faculty comprises distinguished scholars and experts in their respective fields, providing students with unparalleled guidance and mentorship.\n",
      "\n",
      "Source: {'source': 'expanded_descriptions.txt'}\n",
      "Content: University of Notre Dame\n",
      "The University of Notre Dame, situated in the United States, is a prestigious institution renowned for its academic excellence, vibrant campus life, and profound research impact. With a global ranking of 196, this esteemed university has established itself as a hub for intellectual curiosity and innovation.\n",
      "\n",
      "Academically, the University of Notre Dame boasts an impressive array of subjects, catering to a diverse range of interests and career aspirations. The institution offers a broad spectrum of disciplines, including Chemistry, Biological Sciences, Computer Science, History, Philosophy & Theology, Accounting & Finance, Art, Performing Arts & Design, Psychology, Mathematics & Statistics, Languages, Literature & Linguistics, Chemical Engineering, Economics & Econometrics, Physics & Astronomy, Politics & International Studies (including Development Studies), Architecture, Law, General Engineering, Mechanical & Aerospace Engineering, Civil Engineering, Sociology, Business & Management, Education, Electrical & Electronic Engineering, Geology, Environmental, Earth & Marine Sciences, and Communication & Media Studies. This comprehensive range of subjects enables students to explore their passions and develop a deep understanding of their chosen field.\n",
      "\n",
      "The university's academic excellence is further underscored by its impressive scores, with a Citations Score of 72.4, a Research Score of 45.1, and a Teaching Score of 53.2. These metrics demonstrate the institution's commitment to fostering a culture of research, innovation, and pedagogical excellence. The university's faculty comprises distinguished scholars and experts in their respective fields, providing students with unparalleled guidance and mentorship.\n",
      "==================================\u001b[1m Ai Message \u001b[0m==================================\n",
      "\n",
      "The University of Notre Dame is a prestigious institution in the United States, ranked globally at 196. It is known for its academic excellence, vibrant campus life, and profound research impact.\n"
     ]
    }
   ],
   "source": [
    "input_message = \"Can you explain more about the first one ?\"\n",
    "\n",
    "for step in graph.stream(\n",
    "    {\"messages\": [{\"role\": \"user\", \"content\": input_message}]},\n",
    "    stream_mode=\"values\",\n",
    "    config=config,\n",
    "):\n",
    "    step[\"messages\"][-1].pretty_print()"
   ]
  },
  {
   "cell_type": "code",
   "execution_count": null,
   "metadata": {},
   "outputs": [],
   "source": []
  },
  {
   "cell_type": "markdown",
   "metadata": {},
   "source": [
    "### Simple RAG Agent using ReAct agent"
   ]
  },
  {
   "cell_type": "code",
   "execution_count": 40,
   "metadata": {},
   "outputs": [],
   "source": [
    "from langgraph.prebuilt import create_react_agent\n",
    "\n",
    "agent_executor = create_react_agent(llm, [retrieve], checkpointer=memory)"
   ]
  },
  {
   "cell_type": "code",
   "execution_count": 24,
   "metadata": {},
   "outputs": [
    {
     "ename": "NameError",
     "evalue": "name 'Image' is not defined",
     "output_type": "error",
     "traceback": [
      "\u001b[0;31m---------------------------------------------------------------------------\u001b[0m",
      "\u001b[0;31mNameError\u001b[0m                                 Traceback (most recent call last)",
      "Cell \u001b[0;32mIn[24], line 1\u001b[0m\n\u001b[0;32m----> 1\u001b[0m display(\u001b[43mImage\u001b[49m(agent_executor\u001b[38;5;241m.\u001b[39mget_graph()\u001b[38;5;241m.\u001b[39mdraw_mermaid_png()))\n",
      "\u001b[0;31mNameError\u001b[0m: name 'Image' is not defined"
     ]
    }
   ],
   "source": [
    "display(Image(agent_executor.get_graph().draw_mermaid_png()))"
   ]
  },
  {
   "cell_type": "code",
   "execution_count": 41,
   "metadata": {},
   "outputs": [
    {
     "name": "stdout",
     "output_type": "stream",
     "text": [
      "================================\u001b[1m Human Message \u001b[0m=================================\n",
      "\n",
      "List 5 universities in London\n",
      "==================================\u001b[1m Ai Message \u001b[0m==================================\n",
      "Tool Calls:\n",
      "  retrieve (call_j9hs)\n",
      " Call ID: call_j9hs\n",
      "  Args:\n",
      "    query: universities in London\n",
      "=================================\u001b[1m Tool Message \u001b[0m=================================\n",
      "Name: retrieve\n",
      "\n",
      "Source: {'source': 'expanded_descriptions.txt'}\n",
      "Content: Overall, Pace University-New York is a dynamic and inclusive institution that offers a unique and transformative educational experience. With its strong global reputation, commitment to academic excellence, and vibrant campus life, the university is an attractive destination for students from around the world who are seeking a high-quality education and a platform for personal and professional growth.\n",
      "\n",
      "\n",
      "\n",
      "\n",
      " Bentley University\n",
      "Bentley University, situated in the heart of Waltham, Massachusetts, United States, is a prestigious institution renowned for its academic excellence, innovative research, and commitment to fostering a dynamic campus community. As a globally recognized university, Bentley has established itself as a leader in providing high-quality education, with a strong focus on preparing students for successful careers in a rapidly evolving world.\n",
      "\n",
      "With a student population of 4,784, Bentley offers a unique and personalized learning experience, allowing students to thrive in a supportive and inclusive environment. The university's diverse student body, comprising 17% international students, creates a rich cultural tapestry, enabling students to engage with peers from diverse backgrounds and gain valuable global perspectives.\n",
      "\n",
      "Bentley University's academic portfolio is comprehensive and diverse, offering a wide range of subjects across various disciplines. Students can choose from a broad spectrum of programs, including Computer Science, Law, Business & Management, Communication & Media Studies, Mathematics & Statistics, Sociology, Economics & Econometrics, Art, Performing Arts & Design, Politics & International Studies (including Development Studies), Accounting & Finance, Psychology, History, Philosophy & Theology, and Languages, Literature & Linguistics. This extensive range of academic offerings enables students to explore their interests, develop their passions, and acquire the skills and knowledge required to excel in their chosen fields.\n",
      "\n",
      "Source: {'source': 'expanded_descriptions.txt'}\n",
      "Content: Purdue University West Lafayette's global reputation is built on its academic excellence, research impact, and commitment to internationalization. The university has a strong network of partnerships with institutions around the world, providing opportunities for student exchange, collaborative research, and global engagement. With its diverse student body, international faculty, and global outreach, Purdue University West Lafayette is a truly international institution, preparing students to succeed in an increasingly interconnected world.\n",
      "\n",
      "In conclusion, Purdue University West Lafayette is a world-class institution that offers a unique blend of academic excellence, innovative research, and vibrant campus life. With its strong global reputation, diverse academic programs, and commitment to research and internationalization, Purdue University West Lafayette is an ideal destination for students, scholars, and researchers seeking a world-class education and a transformative academic experience.\n",
      "\n",
      "\n",
      "\n",
      "\n",
      " University of Massachusetts\n",
      "The University of Massachusetts, located in Boston, United States, is a prestigious institution of higher learning that has earned a distinguished global reputation for its academic excellence, innovative research, and diverse campus life. Ranked 84th globally, the university is a testament to the state's commitment to providing high-quality education and fostering a culture of intellectual curiosity and discovery.\n",
      "==================================\u001b[1m Ai Message \u001b[0m==================================\n",
      "\n",
      "Here are 5 universities in London:\n",
      "1. Imperial College London\n",
      "2. University College London (UCL)\n",
      "3. King's College London\n",
      "4. London School of Economics and Political Science (LSE)\n",
      "5. Queen Mary University of London\n"
     ]
    }
   ],
   "source": [
    "config = {\"configurable\": {\"thread_id\": \"test21\"}}\n",
    "\n",
    "input_message = (\n",
    "    \"List 5 universities in London\"\n",
    ")\n",
    "\n",
    "for event in agent_executor.stream(\n",
    "    {\"messages\": [{\"role\": \"user\", \"content\": input_message}]},\n",
    "    stream_mode=\"values\",\n",
    "    config=config,\n",
    "):\n",
    "    event[\"messages\"][-1].pretty_print()"
   ]
  },
  {
   "cell_type": "code",
   "execution_count": 21,
   "metadata": {},
   "outputs": [
    {
     "name": "stderr",
     "output_type": "stream",
     "text": [
      "huggingface/tokenizers: The current process just got forked, after parallelism has already been used. Disabling parallelism to avoid deadlocks...\n",
      "To disable this warning, you can either:\n",
      "\t- Avoid using `tokenizers` before the fork if possible\n",
      "\t- Explicitly set the environment variable TOKENIZERS_PARALLELISM=(true | false)\n"
     ]
    }
   ],
   "source": [
    "%%capture --no-stderr\n",
    "%pip install -U psycopg psycopg-pool langgraph langgraph-checkpoint-postgres"
   ]
  },
  {
   "cell_type": "code",
   "execution_count": 13,
   "metadata": {},
   "outputs": [],
   "source": [
    "import os\n",
    "from langgraph.prebuilt import create_react_agent\n",
    "from langgraph.checkpoint.postgres import PostgresSaver\n",
    "from psycopg_pool import ConnectionPool\n",
    "from langchain_chroma import Chroma\n",
    "from langchain_huggingface import HuggingFaceEmbeddings\n",
    "from langchain_core.tools import tool\n",
    "from langchain import hub\n",
    "from langchain_community.document_loaders import TextLoader\n",
    "from langchain_core.documents import Document\n",
    "from langchain_text_splitters import RecursiveCharacterTextSplitter\n",
    "\n",
    "from langchain.chat_models import init_chat_model\n",
    "\n",
    "# llm = init_chat_model(\"llama-3.3-70b-versatile\", model_provider=\"groq\")\n",
    "embeddings = HuggingFaceEmbeddings(model_name=\"sentence-transformers/all-mpnet-base-v2\")\n",
    "vector_store = Chroma(embedding_function=embeddings)\n",
    "\n",
    "\n",
    "\n",
    "# Load and chunk contents of the blog\n",
    "loader = TextLoader(\"expanded_descriptions.txt\")\n",
    "docs = loader.load()\n",
    "\n",
    "text_splitter = RecursiveCharacterTextSplitter(chunk_size=2000, chunk_overlap=500)\n",
    "all_splits = text_splitter.split_documents(docs)\n",
    "\n",
    "_ = vector_store.add_documents(all_splits)\n",
    "\n",
    "\n",
    "\n",
    "@tool(response_format=\"content_and_artifact\")\n",
    "def retrieve(query: str):\n",
    "    \"\"\"Retrieve information related to a query.\"\"\"\n",
    "    retrieved_docs = vector_store.similarity_search(query, k=2)\n",
    "    serialized = \"\\n\\n\".join(\n",
    "        (f\"Source: {doc.metadata}\\n\" f\"Content: {doc.page_content}\")\n",
    "        for doc in retrieved_docs\n",
    "    )\n",
    "    return serialized, retrieved_docs\n",
    "\n",
    "from dotenv import load_dotenv\n",
    "load_dotenv()\n",
    "DB_URI = os.getenv(\"DATABASE_URL\")\n",
    "\n",
    "connection_kwargs = {\n",
    "    \"autocommit\": True,\n",
    "    \"prepare_threshold\": 0,\n",
    "}\n"
   ]
  },
  {
   "cell_type": "code",
   "execution_count": 37,
   "metadata": {},
   "outputs": [],
   "source": [
    "# llm = init_chat_model(\"llama-3.3-70b-versatile\", model_provider=\"groq\")\n",
    "\n",
    "with ConnectionPool(conninfo=DB_URI, max_size=20, kwargs=connection_kwargs) as pool:\n",
    "    checkpointer = PostgresSaver(pool)\n",
    "\n",
    "    checkpointer.setup()\n",
    "\n",
    "    graph = create_react_agent(llm, tools = [retrieve], checkpointer=checkpointer)\n",
    "\n",
    "    config = {\"configurable\":{\"thread_id\" :\"test_10\"}}\n",
    "    \n",
    "    res = graph.invoke(\n",
    "        {\"messages\": [{\"role\": \"user\", \"content\": \"List 5 universities in London\"}]},\n",
    "        config\n",
    "        )\n",
    "    checkpoint = checkpointer.get(config)\n"
   ]
  },
  {
   "cell_type": "code",
   "execution_count": 38,
   "metadata": {},
   "outputs": [
    {
     "data": {
      "text/plain": [
       "[HumanMessage(content='List 5 universities in Boston or around it.', additional_kwargs={}, response_metadata={}, id='dd2a35f5-a02a-490d-8153-92eea15a361e'),\n",
       " AIMessage(content='<function=retrieve {\"query\": \"universities in Boston or around it\"} </function>', additional_kwargs={}, response_metadata={'token_usage': {'completion_tokens': 21, 'prompt_tokens': 220, 'total_tokens': 241, 'completion_time': 0.077683005, 'prompt_time': 0.012898339, 'queue_time': 0.503000789, 'total_time': 0.090581344}, 'model_name': 'llama-3.3-70b-versatile', 'system_fingerprint': 'fp_76dc6cf67d', 'finish_reason': 'stop', 'logprobs': None}, id='run-2688b198-56d6-4864-bf58-59adaa7782f4-0', usage_metadata={'input_tokens': 220, 'output_tokens': 21, 'total_tokens': 241}),\n",
       " HumanMessage(content='List 5 universities in Boston or around it.', additional_kwargs={}, response_metadata={}, id='bf2f473c-2533-4520-b055-e978870c315c'),\n",
       " AIMessage(content='<function=retrieve {\"query\": \"list of universities in Boston\"} </function>', additional_kwargs={}, response_metadata={'token_usage': {'completion_tokens': 18, 'prompt_tokens': 260, 'total_tokens': 278, 'completion_time': 0.065454545, 'prompt_time': 0.018243063, 'queue_time': 0.23357110399999997, 'total_time': 0.083697608}, 'model_name': 'llama-3.3-70b-versatile', 'system_fingerprint': 'fp_2ca0059abb', 'finish_reason': 'stop', 'logprobs': None}, id='run-ed2bb931-343a-44b4-a165-eed33f2e03cb-0', usage_metadata={'input_tokens': 260, 'output_tokens': 18, 'total_tokens': 278}),\n",
       " HumanMessage(content='List 5 universities in Boston or around it.', additional_kwargs={}, response_metadata={}, id='76ad3c55-d736-488c-a142-07671c7e1344'),\n",
       " AIMessage(content='1. Harvard University\\n2. Massachusetts Institute of Technology (MIT)\\n3. Boston University\\n4. Tufts University\\n5. Northeastern University', additional_kwargs={}, response_metadata={'token_usage': {'completion_tokens': 31, 'prompt_tokens': 297, 'total_tokens': 328, 'completion_time': 0.113077926, 'prompt_time': 0.017738837, 'queue_time': 0.912828977, 'total_time': 0.130816763}, 'model_name': 'llama-3.3-70b-versatile', 'system_fingerprint': 'fp_5f849c5a0b', 'finish_reason': 'stop', 'logprobs': None}, id='run-553f0887-8f4e-4aee-8dff-c101ce3807ab-0', usage_metadata={'input_tokens': 297, 'output_tokens': 31, 'total_tokens': 328}),\n",
       " HumanMessage(content='List 5 universities in London', additional_kwargs={}, response_metadata={}, id='b84e040f-a41a-4f4c-bac3-bce2ca09af35'),\n",
       " AIMessage(content='<function=retrieve {\"query\": \"list of universities in London\"} </function>', additional_kwargs={}, response_metadata={'token_usage': {'completion_tokens': 18, 'prompt_tokens': 343, 'total_tokens': 361, 'completion_time': 0.065454545, 'prompt_time': 0.016698361, 'queue_time': 0.23345317, 'total_time': 0.082152906}, 'model_name': 'llama-3.3-70b-versatile', 'system_fingerprint': 'fp_e669a124b2', 'finish_reason': 'stop', 'logprobs': None}, id='run-01de10af-03bf-4858-bb19-077ad46604d2-0', usage_metadata={'input_tokens': 343, 'output_tokens': 18, 'total_tokens': 361})]"
      ]
     },
     "execution_count": 38,
     "metadata": {},
     "output_type": "execute_result"
    }
   ],
   "source": [
    "res['messages']"
   ]
  },
  {
   "cell_type": "code",
   "execution_count": 34,
   "metadata": {},
   "outputs": [
    {
     "data": {
      "text/plain": [
       "\"content='1. Harvard University\\\\n2. Massachusetts Institute of Technology (MIT)\\\\n3. Boston University\\\\n4. Tufts University\\\\n5. Northeastern University' additional_kwargs={} response_metadata={'token_usage': {'completion_tokens': 31, 'prompt_tokens': 297, 'total_tokens': 328, 'completion_time': 0.113077926, 'prompt_time': 0.017738837, 'queue_time': 0.912828977, 'total_time': 0.130816763}, 'model_name': 'llama-3.3-70b-versatile', 'system_fingerprint': 'fp_5f849c5a0b', 'finish_reason': 'stop', 'logprobs': None} id='run-553f0887-8f4e-4aee-8dff-c101ce3807ab-0' usage_metadata={'input_tokens': 297, 'output_tokens': 31, 'total_tokens': 328}\""
      ]
     },
     "execution_count": 34,
     "metadata": {},
     "output_type": "execute_result"
    }
   ],
   "source": [
    "response"
   ]
  },
  {
   "cell_type": "code",
   "execution_count": 34,
   "metadata": {},
   "outputs": [
    {
     "data": {
      "text/plain": [
       "{'v': 1,\n",
       " 'id': '1eff35b9-df6d-6c7b-8008-78baca13a256',\n",
       " 'ts': '2025-02-25T09:33:48.954927+00:00',\n",
       " 'pending_sends': [],\n",
       " 'versions_seen': {'agent': {'tools': '00000000000000000000000000000009.0.3813555539647716',\n",
       "   'start:agent': '00000000000000000000000000000007.0.30522680752053577'},\n",
       "  'tools': {'branch:agent:should_continue:tools': '00000000000000000000000000000008.0.10467975420995534'},\n",
       "  '__input__': {},\n",
       "  '__start__': {'__start__': '00000000000000000000000000000006.0.20953087306488416'}},\n",
       " 'channel_versions': {'agent': '00000000000000000000000000000010.0.5332665299818378',\n",
       "  'tools': '00000000000000000000000000000010.0.37935810279609206',\n",
       "  'messages': '00000000000000000000000000000010.0.7181371835350833',\n",
       "  '__start__': '00000000000000000000000000000007.0.5356087228750375',\n",
       "  'start:agent': '00000000000000000000000000000008.0.28151541301491956',\n",
       "  'branch:agent:should_continue:tools': '00000000000000000000000000000009.0.38705983826317736'},\n",
       " 'channel_values': {'agent': 'agent',\n",
       "  'messages': [HumanMessage(content='List 4 universities in Boston, After that explain first one', additional_kwargs={}, response_metadata={}, id='88fea0a6-7779-4611-b066-dfbcde88a286'),\n",
       "   AIMessage(content='', additional_kwargs={'tool_calls': [{'id': 'call_27s4', 'function': {'arguments': '{\"query\": \"List 4 universities in Boston\"}', 'name': 'retrieve'}, 'type': 'function'}, {'id': 'call_1t5r', 'function': {'arguments': '{\"query\": \"Explain Harvard University\"}', 'name': 'retrieve'}, 'type': 'function'}]}, response_metadata={'token_usage': {'completion_tokens': 35, 'prompt_tokens': 222, 'total_tokens': 257, 'completion_time': 0.028244325, 'prompt_time': 0.022683849, 'queue_time': 0.23453538999999998, 'total_time': 0.050928174}, 'model_name': 'llama-3.3-70b-specdec', 'system_fingerprint': 'fp_9f325da874', 'finish_reason': 'tool_calls', 'logprobs': None}, id='run-4c972548-d770-439e-8292-6ccd875c0a03-0', tool_calls=[{'name': 'retrieve', 'args': {'query': 'List 4 universities in Boston'}, 'id': 'call_27s4', 'type': 'tool_call'}, {'name': 'retrieve', 'args': {'query': 'Explain Harvard University'}, 'id': 'call_1t5r', 'type': 'tool_call'}], usage_metadata={'input_tokens': 222, 'output_tokens': 35, 'total_tokens': 257}),\n",
       "   ToolMessage(content=\"Source: {'source': 'expanded_descriptions.txt'}\\nContent: Boston University\\nBoston University, situated in the vibrant city of Boston, United States, is a prestigious institution of higher learning that has consistently ranked among the top universities globally, currently standing at 75th position. With a rich history and a strong commitment to academic excellence, Boston University has established itself as a hub for intellectual inquiry, innovation, and discovery.\\n\\nAcademically, Boston University boasts an impressive array of subjects, catering to a diverse range of interests and career aspirations. The university offers a broad spectrum of programs in fields such as Other Health, Politics & International Studies, Sociology, Mechanical & Aerospace Engineering, Education, and many more. This comprehensive range of academic disciplines enables students to explore their passions and interests, while also developing a strong foundation for future success.\\n\\nThe university's faculty is comprised of renowned scholars and experts in their respective fields, who are dedicated to providing students with a world-class education. The Teaching Score of 60.5 is a testament to the university's commitment to pedagogical excellence, ensuring that students receive a high-quality learning experience. The Research Score of 56.2 further underscores the university's emphasis on scholarly inquiry and innovation, with faculty members actively engaged in cutting-edge research that addresses some of the world's most pressing challenges.\\n\\nBoston University's research impact is significant, with a Citations Score of 93.2, indicating the university's research output is widely cited and respected globally. The university's research endeavors are characterized by a strong focus on interdisciplinary collaboration, fostering a culture of innovation and creativity. From the sciences and engineering to the humanities and social sciences, Boston University's research initiatives are designed to drive positive change and address complex problems.\\n\\nSource: {'source': 'expanded_descriptions.txt'}\\nContent: Boston College\\nBoston College, situated in the picturesque suburb of Chestnut Hill, United States, is a renowned institution of higher learning that has established itself as a premier destination for academic excellence. With a global ranking of 251-300, Boston College has consistently demonstrated its commitment to providing a world-class education, fostering a vibrant campus community, and contributing to groundbreaking research initiatives.\\n\\nAcademically, Boston College boasts an impressive array of subjects, catering to a diverse range of interests and career aspirations. The university offers a broad spectrum of programs in fields such as Geology, Environmental, Earth & Marine Sciences, Languages, Literature & Linguistics, Sociology, History, Philosophy & Theology, Business & Management, Accounting & Finance, Mathematics & Statistics, Education, Computer Science, Biological Sciences, Physics & Astronomy, Law, Economics & Econometrics, Medicine & Dentistry, Art, Performing Arts & Design, Communication & Media Studies, Psychology, General Engineering, Chemistry, and Politics & International Studies (including Development Studies). This comprehensive range of academic offerings enables students to explore their passions, develop their skills, and pursue their career goals with confidence.\\n\\nThe university's academic excellence is further underscored by its impressive Citations Score of 85.3, indicating a strong research output and a significant impact on the global academic community. The Research Score of 32.3 and Teaching Score of 46.3 demonstrate Boston College's commitment to fostering a research-intensive environment, where faculty and students collaborate to advance knowledge and address pressing global challenges.\", name='retrieve', id='8b2983cc-7897-4692-b59e-fc45ff3785e3', tool_call_id='call_27s4', artifact=[{'id': 'cd850b1f-c15a-45fe-bf57-d11586af6c1f', 'metadata': {'source': 'expanded_descriptions.txt'}, 'page_content': \"Boston University\\nBoston University, situated in the vibrant city of Boston, United States, is a prestigious institution of higher learning that has consistently ranked among the top universities globally, currently standing at 75th position. With a rich history and a strong commitment to academic excellence, Boston University has established itself as a hub for intellectual inquiry, innovation, and discovery.\\n\\nAcademically, Boston University boasts an impressive array of subjects, catering to a diverse range of interests and career aspirations. The university offers a broad spectrum of programs in fields such as Other Health, Politics & International Studies, Sociology, Mechanical & Aerospace Engineering, Education, and many more. This comprehensive range of academic disciplines enables students to explore their passions and interests, while also developing a strong foundation for future success.\\n\\nThe university's faculty is comprised of renowned scholars and experts in their respective fields, who are dedicated to providing students with a world-class education. The Teaching Score of 60.5 is a testament to the university's commitment to pedagogical excellence, ensuring that students receive a high-quality learning experience. The Research Score of 56.2 further underscores the university's emphasis on scholarly inquiry and innovation, with faculty members actively engaged in cutting-edge research that addresses some of the world's most pressing challenges.\\n\\nBoston University's research impact is significant, with a Citations Score of 93.2, indicating the university's research output is widely cited and respected globally. The university's research endeavors are characterized by a strong focus on interdisciplinary collaboration, fostering a culture of innovation and creativity. From the sciences and engineering to the humanities and social sciences, Boston University's research initiatives are designed to drive positive change and address complex problems.\", 'type': 'Document'}, {'id': '8f0b878a-075f-4364-b20f-f3b576a6c91b', 'metadata': {'source': 'expanded_descriptions.txt'}, 'page_content': \"Boston College\\nBoston College, situated in the picturesque suburb of Chestnut Hill, United States, is a renowned institution of higher learning that has established itself as a premier destination for academic excellence. With a global ranking of 251-300, Boston College has consistently demonstrated its commitment to providing a world-class education, fostering a vibrant campus community, and contributing to groundbreaking research initiatives.\\n\\nAcademically, Boston College boasts an impressive array of subjects, catering to a diverse range of interests and career aspirations. The university offers a broad spectrum of programs in fields such as Geology, Environmental, Earth & Marine Sciences, Languages, Literature & Linguistics, Sociology, History, Philosophy & Theology, Business & Management, Accounting & Finance, Mathematics & Statistics, Education, Computer Science, Biological Sciences, Physics & Astronomy, Law, Economics & Econometrics, Medicine & Dentistry, Art, Performing Arts & Design, Communication & Media Studies, Psychology, General Engineering, Chemistry, and Politics & International Studies (including Development Studies). This comprehensive range of academic offerings enables students to explore their passions, develop their skills, and pursue their career goals with confidence.\\n\\nThe university's academic excellence is further underscored by its impressive Citations Score of 85.3, indicating a strong research output and a significant impact on the global academic community. The Research Score of 32.3 and Teaching Score of 46.3 demonstrate Boston College's commitment to fostering a research-intensive environment, where faculty and students collaborate to advance knowledge and address pressing global challenges.\", 'type': 'Document'}]),\n",
       "   ToolMessage(content=\"Source: {'source': 'expanded_descriptions.txt'}\\nContent: Harvard University\\nHarvard University, situated in the historic city of Cambridge, United States, is a prestigious institution renowned for its academic excellence, innovative research, and distinguished faculty. Ranked 3rd globally, Harvard University is a beacon of intellectual curiosity, attracting talented students and scholars from around the world.\\n\\nWith a citations score of 99.3, a research score of 99.9, and a teaching score of 97.3, Harvard University consistently demonstrates its commitment to fostering a culture of scholarship, creativity, and critical thinking. The university's academic programs are designed to challenge students, encourage exploration, and promote interdisciplinary collaboration. The diverse range of subjects offered, including Archaeology, Mathematics & Statistics, Art, Performing Arts & Design, Psychology, and many others, provides students with a broad spectrum of academic pursuits to explore.\\n\\nThe student population at Harvard University is approximately 22,584, with a significant proportion of international students, representing 25% of the total enrollment. This diverse student body creates a vibrant and inclusive campus community, where students from different cultural backgrounds come together to share ideas, perspectives, and experiences. The university's campus life is characterized by a wide range of extracurricular activities, student organizations, and cultural events, which cater to various interests and passions.\\n\\nAs a global leader in research and academic excellence, Harvard University has a profound impact on the world. The university's research initiatives address some of the most pressing challenges facing humanity, including climate change, healthcare, economic inequality, and social justice. With a strong focus on innovation and entrepreneurship, Harvard University has spawned numerous start-ups, spin-offs, and initiatives that have transformed industries and improved lives.\\n\\nSource: {'source': 'expanded_descriptions.txt'}\\nContent: As a global leader in research and academic excellence, Harvard University has a profound impact on the world. The university's research initiatives address some of the most pressing challenges facing humanity, including climate change, healthcare, economic inequality, and social justice. With a strong focus on innovation and entrepreneurship, Harvard University has spawned numerous start-ups, spin-offs, and initiatives that have transformed industries and improved lives.\\n\\nThe university's global reputation is a testament to its enduring legacy of academic excellence, intellectual freedom, and innovative spirit. Harvard University's faculty comprises some of the world's most distinguished scholars, researchers, and practitioners, who are dedicated to mentoring students, advancing knowledge, and shaping the future. The university's alumni network is equally impressive, with many notable figures in politics, business, arts, and sciences having graduated from Harvard.\\n\\nIn terms of research impact, Harvard University is at the forefront of breakthrough discoveries and pioneering research in various fields, including Medicine & Dentistry, Physics & Astronomy, Computer Science, and Engineering. The university's research centers, institutes, and laboratories provide a fertile ground for interdisciplinary collaboration, experimentation, and innovation. With a strong emphasis on translation and application, Harvard University's research has far-reaching implications for policy, practice, and industry.\", name='retrieve', id='34efc206-d128-42cb-94ae-af58af460cee', tool_call_id='call_1t5r', artifact=[{'id': 'b0742a0a-0d10-40d1-93da-532bf0003b19', 'metadata': {'source': 'expanded_descriptions.txt'}, 'page_content': \"Harvard University\\nHarvard University, situated in the historic city of Cambridge, United States, is a prestigious institution renowned for its academic excellence, innovative research, and distinguished faculty. Ranked 3rd globally, Harvard University is a beacon of intellectual curiosity, attracting talented students and scholars from around the world.\\n\\nWith a citations score of 99.3, a research score of 99.9, and a teaching score of 97.3, Harvard University consistently demonstrates its commitment to fostering a culture of scholarship, creativity, and critical thinking. The university's academic programs are designed to challenge students, encourage exploration, and promote interdisciplinary collaboration. The diverse range of subjects offered, including Archaeology, Mathematics & Statistics, Art, Performing Arts & Design, Psychology, and many others, provides students with a broad spectrum of academic pursuits to explore.\\n\\nThe student population at Harvard University is approximately 22,584, with a significant proportion of international students, representing 25% of the total enrollment. This diverse student body creates a vibrant and inclusive campus community, where students from different cultural backgrounds come together to share ideas, perspectives, and experiences. The university's campus life is characterized by a wide range of extracurricular activities, student organizations, and cultural events, which cater to various interests and passions.\\n\\nAs a global leader in research and academic excellence, Harvard University has a profound impact on the world. The university's research initiatives address some of the most pressing challenges facing humanity, including climate change, healthcare, economic inequality, and social justice. With a strong focus on innovation and entrepreneurship, Harvard University has spawned numerous start-ups, spin-offs, and initiatives that have transformed industries and improved lives.\", 'type': 'Document'}, {'id': 'ba1da222-4f47-4ce8-8ed9-661c3befccc3', 'metadata': {'source': 'expanded_descriptions.txt'}, 'page_content': \"As a global leader in research and academic excellence, Harvard University has a profound impact on the world. The university's research initiatives address some of the most pressing challenges facing humanity, including climate change, healthcare, economic inequality, and social justice. With a strong focus on innovation and entrepreneurship, Harvard University has spawned numerous start-ups, spin-offs, and initiatives that have transformed industries and improved lives.\\n\\nThe university's global reputation is a testament to its enduring legacy of academic excellence, intellectual freedom, and innovative spirit. Harvard University's faculty comprises some of the world's most distinguished scholars, researchers, and practitioners, who are dedicated to mentoring students, advancing knowledge, and shaping the future. The university's alumni network is equally impressive, with many notable figures in politics, business, arts, and sciences having graduated from Harvard.\\n\\nIn terms of research impact, Harvard University is at the forefront of breakthrough discoveries and pioneering research in various fields, including Medicine & Dentistry, Physics & Astronomy, Computer Science, and Engineering. The university's research centers, institutes, and laboratories provide a fertile ground for interdisciplinary collaboration, experimentation, and innovation. With a strong emphasis on translation and application, Harvard University's research has far-reaching implications for policy, practice, and industry.\", 'type': 'Document'}]),\n",
       "   AIMessage(content=\"Here are the 4 universities in Boston: \\n1. Harvard University\\n2. Boston University\\n3. Boston College\\n4. Northeastern University\\n\\nThe first university, Harvard University, is a prestigious institution renowned for its academic excellence, innovative research, and distinguished faculty. Ranked 3rd globally, Harvard University is a beacon of intellectual curiosity, attracting talented students and scholars from around the world. With a citations score of 99.3, a research score of 99.9, and a teaching score of 97.3, Harvard University consistently demonstrates its commitment to fostering a culture of scholarship, creativity, and critical thinking. The university's academic programs are designed to challenge students, encourage exploration, and promote interdisciplinary collaboration. The diverse range of subjects offered provides students with a broad spectrum of academic pursuits to explore.\", additional_kwargs={}, response_metadata={'token_usage': {'completion_tokens': 166, 'prompt_tokens': 1551, 'total_tokens': 1717, 'completion_time': 0.070277333, 'prompt_time': 0.160896279, 'queue_time': 0.235554038, 'total_time': 0.231173612}, 'model_name': 'llama-3.3-70b-specdec', 'system_fingerprint': 'fp_9f325da874', 'finish_reason': 'stop', 'logprobs': None}, id='run-95b1eb1f-a8c0-4b58-a251-a0cb0b83efd9-0', usage_metadata={'input_tokens': 1551, 'output_tokens': 166, 'total_tokens': 1717}),\n",
       "   HumanMessage(content='Explain the second one in the list', additional_kwargs={}, response_metadata={}, id='f14a5ccd-a1b1-4a8d-a833-88757008ea9b'),\n",
       "   AIMessage(content='', additional_kwargs={'tool_calls': [{'id': 'call_75ae', 'function': {'arguments': '{\"query\": \"Explain Boston University\"}', 'name': 'retrieve'}, 'type': 'function'}]}, response_metadata={'token_usage': {'completion_tokens': 17, 'prompt_tokens': 1734, 'total_tokens': 1751, 'completion_time': 0.005130985, 'prompt_time': 0.179702524, 'queue_time': 0.235201576, 'total_time': 0.184833509}, 'model_name': 'llama-3.3-70b-specdec', 'system_fingerprint': 'fp_985f1e4133', 'finish_reason': 'tool_calls', 'logprobs': None}, id='run-2fc9f18e-8ece-46e3-b1dd-65bf6adc6512-0', tool_calls=[{'name': 'retrieve', 'args': {'query': 'Explain Boston University'}, 'id': 'call_75ae', 'type': 'tool_call'}], usage_metadata={'input_tokens': 1734, 'output_tokens': 17, 'total_tokens': 1751}),\n",
       "   ToolMessage(content=\"Source: {'source': 'expanded_descriptions.txt'}\\nContent: The university's student population of 28,939 is a vibrant and diverse community, with 32% of students hailing from international backgrounds. This diverse student body creates a rich and inclusive learning environment, where students can engage with peers from different cultural backgrounds, share perspectives, and develop a deeper understanding of the global community.\\n\\nCampus life at Boston University is equally impressive, with a range of extracurricular activities, clubs, and organizations that cater to various interests and passions. The university's location in Boston, a city renowned for its cultural, historical, and intellectual attractions, provides students with unparalleled opportunities for exploration, internship, and career development.\\n\\nIn terms of global reputation, Boston University is recognized as a leading institution of higher learning, with a strong reputation for academic excellence, research impact, and graduate employability. The university's alumni network is extensive and influential, with graduates going on to achieve great success in their chosen fields.\\n\\nIn conclusion, Boston University is a world-class institution that offers a unique blend of academic excellence, research impact, and campus life. With its diverse range of subjects, commitment to pedagogical innovation, and strong research focus, the university provides students with a transformative educational experience that prepares them for success in an increasingly complex and interconnected world. As a globally recognized institution, Boston University is an ideal destination for students seeking a high-quality education, innovative research opportunities, and a vibrant campus community.\\n\\nSource: {'source': 'expanded_descriptions.txt'}\\nContent: Boston University\\nBoston University, situated in the vibrant city of Boston, United States, is a prestigious institution of higher learning that has consistently ranked among the top universities globally, currently standing at 75th position. With a rich history and a strong commitment to academic excellence, Boston University has established itself as a hub for intellectual inquiry, innovation, and discovery.\\n\\nAcademically, Boston University boasts an impressive array of subjects, catering to a diverse range of interests and career aspirations. The university offers a broad spectrum of programs in fields such as Other Health, Politics & International Studies, Sociology, Mechanical & Aerospace Engineering, Education, and many more. This comprehensive range of academic disciplines enables students to explore their passions and interests, while also developing a strong foundation for future success.\\n\\nThe university's faculty is comprised of renowned scholars and experts in their respective fields, who are dedicated to providing students with a world-class education. The Teaching Score of 60.5 is a testament to the university's commitment to pedagogical excellence, ensuring that students receive a high-quality learning experience. The Research Score of 56.2 further underscores the university's emphasis on scholarly inquiry and innovation, with faculty members actively engaged in cutting-edge research that addresses some of the world's most pressing challenges.\\n\\nBoston University's research impact is significant, with a Citations Score of 93.2, indicating the university's research output is widely cited and respected globally. The university's research endeavors are characterized by a strong focus on interdisciplinary collaboration, fostering a culture of innovation and creativity. From the sciences and engineering to the humanities and social sciences, Boston University's research initiatives are designed to drive positive change and address complex problems.\", name='retrieve', id='0ebf71cd-5efb-4e1d-9024-3d2ab793cd66', tool_call_id='call_75ae', artifact=[{'id': 'd770e988-a833-4edc-817c-d777a92cff15', 'metadata': {'source': 'expanded_descriptions.txt'}, 'page_content': \"The university's student population of 28,939 is a vibrant and diverse community, with 32% of students hailing from international backgrounds. This diverse student body creates a rich and inclusive learning environment, where students can engage with peers from different cultural backgrounds, share perspectives, and develop a deeper understanding of the global community.\\n\\nCampus life at Boston University is equally impressive, with a range of extracurricular activities, clubs, and organizations that cater to various interests and passions. The university's location in Boston, a city renowned for its cultural, historical, and intellectual attractions, provides students with unparalleled opportunities for exploration, internship, and career development.\\n\\nIn terms of global reputation, Boston University is recognized as a leading institution of higher learning, with a strong reputation for academic excellence, research impact, and graduate employability. The university's alumni network is extensive and influential, with graduates going on to achieve great success in their chosen fields.\\n\\nIn conclusion, Boston University is a world-class institution that offers a unique blend of academic excellence, research impact, and campus life. With its diverse range of subjects, commitment to pedagogical innovation, and strong research focus, the university provides students with a transformative educational experience that prepares them for success in an increasingly complex and interconnected world. As a globally recognized institution, Boston University is an ideal destination for students seeking a high-quality education, innovative research opportunities, and a vibrant campus community.\", 'type': 'Document'}, {'id': 'cd850b1f-c15a-45fe-bf57-d11586af6c1f', 'metadata': {'source': 'expanded_descriptions.txt'}, 'page_content': \"Boston University\\nBoston University, situated in the vibrant city of Boston, United States, is a prestigious institution of higher learning that has consistently ranked among the top universities globally, currently standing at 75th position. With a rich history and a strong commitment to academic excellence, Boston University has established itself as a hub for intellectual inquiry, innovation, and discovery.\\n\\nAcademically, Boston University boasts an impressive array of subjects, catering to a diverse range of interests and career aspirations. The university offers a broad spectrum of programs in fields such as Other Health, Politics & International Studies, Sociology, Mechanical & Aerospace Engineering, Education, and many more. This comprehensive range of academic disciplines enables students to explore their passions and interests, while also developing a strong foundation for future success.\\n\\nThe university's faculty is comprised of renowned scholars and experts in their respective fields, who are dedicated to providing students with a world-class education. The Teaching Score of 60.5 is a testament to the university's commitment to pedagogical excellence, ensuring that students receive a high-quality learning experience. The Research Score of 56.2 further underscores the university's emphasis on scholarly inquiry and innovation, with faculty members actively engaged in cutting-edge research that addresses some of the world's most pressing challenges.\\n\\nBoston University's research impact is significant, with a Citations Score of 93.2, indicating the university's research output is widely cited and respected globally. The university's research endeavors are characterized by a strong focus on interdisciplinary collaboration, fostering a culture of innovation and creativity. From the sciences and engineering to the humanities and social sciences, Boston University's research initiatives are designed to drive positive change and address complex problems.\", 'type': 'Document'}]),\n",
       "   AIMessage(content=\"The second university in the list, Boston University, is a prestigious institution of higher learning that has consistently ranked among the top universities globally. With a rich history and a strong commitment to academic excellence, Boston University has established itself as a hub for intellectual inquiry, innovation, and discovery.\\n\\nAcademically, Boston University boasts an impressive array of subjects, catering to a diverse range of interests and career aspirations. The university offers a broad spectrum of programs in fields such as Other Health, Politics & International Studies, Sociology, Mechanical & Aerospace Engineering, Education, and many more. This comprehensive range of academic disciplines enables students to explore their passions and interests, while also developing a strong foundation for future success.\\n\\nThe university's faculty is comprised of renowned scholars and experts in their respective fields, who are dedicated to providing students with a world-class education. The Teaching Score of 60.5 is a testament to the university's commitment to pedagogical excellence, ensuring that students receive a high-quality learning experience. The Research Score of 56.2 further underscores the university's emphasis on scholarly inquiry and innovation, with faculty members actively engaged in cutting-edge research that addresses some of the world's most pressing challenges.\\n\\nBoston University's research impact is significant, with a Citations Score of 93.2, indicating the university's research output is widely cited and respected globally. The university's research endeavors are characterized by a strong focus on interdisciplinary collaboration, fostering a culture of innovation and creativity. From the sciences and engineering to the humanities and social sciences, Boston University's research initiatives are designed to drive positive change and address complex problems.\\n\\nThe university's student population of 28,939 is a vibrant and diverse community, with 32% of students hailing from international backgrounds. This diverse student body creates a rich and inclusive learning environment, where students can engage with peers from different cultural backgrounds, share perspectives, and develop a deeper understanding of the global community.\\n\\nCampus life at Boston University is equally impressive, with a range of extracurricular activities, clubs, and organizations that cater to various interests and passions. The university's location in Boston, a city renowned for its cultural, historical, and intellectual attractions, provides students with unparalleled opportunities for exploration, internship, and career development.\\n\\nIn terms of global reputation, Boston University is recognized as a leading institution of higher learning, with a strong reputation for academic excellence, research impact, and graduate employability. The university's alumni network is extensive and influential, with graduates going on to achieve great success in their chosen fields.\\n\\nIn conclusion, Boston University is a world-class institution that offers a unique blend of academic excellence, research impact, and campus life. With its diverse range of subjects, commitment to pedagogical innovation, and strong research focus, the university provides students with a transformative educational experience that prepares them for success in an increasingly complex and interconnected world. As a globally recognized institution, Boston University is an ideal destination for students seeking a high-quality education, innovative research opportunities, and a vibrant campus community.\", additional_kwargs={}, response_metadata={'token_usage': {'completion_tokens': 607, 'prompt_tokens': 2408, 'total_tokens': 3015, 'completion_time': 0.155942582, 'prompt_time': 0.250883624, 'queue_time': 0.46702172999999997, 'total_time': 0.406826206}, 'model_name': 'llama-3.3-70b-specdec', 'system_fingerprint': 'fp_9f325da874', 'finish_reason': 'stop', 'logprobs': None}, id='run-a9f5e025-ec9c-481b-b538-4a1807272869-0', usage_metadata={'input_tokens': 2408, 'output_tokens': 607, 'total_tokens': 3015})]}}"
      ]
     },
     "execution_count": 34,
     "metadata": {},
     "output_type": "execute_result"
    }
   ],
   "source": [
    "checkpoint"
   ]
  },
  {
   "cell_type": "code",
   "execution_count": null,
   "metadata": {},
   "outputs": [],
   "source": []
  }
 ],
 "metadata": {
  "kernelspec": {
   "display_name": "venv",
   "language": "python",
   "name": "python3"
  },
  "language_info": {
   "codemirror_mode": {
    "name": "ipython",
    "version": 3
   },
   "file_extension": ".py",
   "mimetype": "text/x-python",
   "name": "python",
   "nbconvert_exporter": "python",
   "pygments_lexer": "ipython3",
   "version": "3.11.6"
  }
 },
 "nbformat": 4,
 "nbformat_minor": 2
}
