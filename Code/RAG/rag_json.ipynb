{
 "cells": [
  {
   "cell_type": "code",
   "execution_count": 66,
   "metadata": {},
   "outputs": [],
   "source": [
    "import getpass\n",
    "import os\n",
    "\n",
    "os.environ[\"LANGSMITH_TRACING\"] = \"true\"\n",
    "os.environ[\"LANGSMITH_API_KEY\"] = getpass.getpass()\n",
    "\n",
    "if not os.environ.get(\"GROQ_API_KEY\"):\n",
    "  os.environ[\"GROQ_API_KEY\"] = getpass.getpass(\"Enter API key for Groq: \")\n"
   ]
  },
  {
   "cell_type": "code",
   "execution_count": 69,
   "metadata": {},
   "outputs": [],
   "source": [
    "\n",
    "from langchain.chat_models import init_chat_model\n",
    "\n",
    "llm = init_chat_model(\"llama-3.3-70b-versatile\", model_provider=\"groq\")"
   ]
  },
  {
   "cell_type": "code",
   "execution_count": 77,
   "metadata": {},
   "outputs": [
    {
     "data": {
      "text/plain": [
       "AIMessage(content='Here are 5 universities in California:\\n\\n1. Stanford University\\n2. University of California, Berkeley\\n3. University of California, Los Angeles (UCLA)\\n4. California Institute of Technology (Caltech)\\n5. University of Southern California (USC)', additional_kwargs={}, response_metadata={'token_usage': {'completion_tokens': 54, 'prompt_tokens': 41, 'total_tokens': 95, 'completion_time': 0.196363636, 'prompt_time': 0.004613601, 'queue_time': 0.233543086, 'total_time': 0.200977237}, 'model_name': 'llama-3.3-70b-versatile', 'system_fingerprint': 'fp_5f849c5a0b', 'finish_reason': 'stop', 'logprobs': None}, id='run-7b210a4c-ff96-4a05-9c9f-7519c3d5a17d-0', usage_metadata={'input_tokens': 41, 'output_tokens': 54, 'total_tokens': 95})"
      ]
     },
     "execution_count": 77,
     "metadata": {},
     "output_type": "execute_result"
    }
   ],
   "source": [
    "llm.invoke(\"list 5 universities in california\")"
   ]
  },
  {
   "cell_type": "code",
   "execution_count": 71,
   "metadata": {},
   "outputs": [],
   "source": [
    "from langchain_huggingface import HuggingFaceEmbeddings\n",
    "\n",
    "embeddings = HuggingFaceEmbeddings(model_name=\"sentence-transformers/all-mpnet-base-v2\")"
   ]
  },
  {
   "cell_type": "code",
   "execution_count": 58,
   "metadata": {},
   "outputs": [],
   "source": [
    "#initialize the vector store\n",
    "from langchain_chroma import Chroma\n",
    "\n",
    "vector_store = Chroma(embedding_function=embeddings)"
   ]
  },
  {
   "cell_type": "code",
   "execution_count": 59,
   "metadata": {},
   "outputs": [],
   "source": [
    "# from langchain_community.document_loaders import JSONLoader\n",
    "\n",
    "# loader = JSONLoader(file_path=\"uni_with_description.json\",\n",
    "#                     jq_schema=\".[]\",\n",
    "#                     text_content=False)\n",
    "\n",
    "# docs = loader.load()"
   ]
  },
  {
   "cell_type": "markdown",
   "metadata": {},
   "source": []
  },
  {
   "cell_type": "code",
   "execution_count": 60,
   "metadata": {},
   "outputs": [],
   "source": [
    "# docs[:5]"
   ]
  },
  {
   "cell_type": "code",
   "execution_count": 72,
   "metadata": {},
   "outputs": [],
   "source": [
    "from langchain import hub\n",
    "from langchain_community.document_loaders import \n",
    "from langchain_core.documents import Document\n",
    "from langchain_text_splitters import RecursiveCharacterTextSplitter\n",
    "from langchain_text_splitters import RecursiveCharacterTextSplitter\n",
    "from langgraph.graph import START, StateGraph\n",
    "from typing_extensions import List, TypedDict\n",
    "\n",
    "\n",
    "loader = JSONLoader(file_path=\"uni_with_description.json\",\n",
    "                    jq_schema=\".[]\",\n",
    "                    text_content=False)\n",
    "\n",
    "docs = loader.load()\n",
    "\n",
    "text_splitter = RecursiveCharacterTextSplitter(\n",
    "    chunk_size = 2000,\n",
    "    chunk_overlap = 500\n",
    ")\n",
    "\n",
    "all_splits = text_splitter.split_documents(docs)\n",
    "\n",
    "#index chunks\n",
    "_ = vector_store.add_documents(documents=all_splits)\n",
    "\n",
    "#prompt template\n",
    "prompt = \"\"\"\n",
    "You are an assistant for question-answering tasks. Use the following pieces of retrieved context to answer the question. If you don't know the answer, just say that you don't know. Keep the answer concise.\n",
    "Question: {question} \n",
    "Context: {context} \n",
    "Answer:\n",
    "\"\"\"\n"
   ]
  },
  {
   "cell_type": "code",
   "execution_count": 73,
   "metadata": {},
   "outputs": [],
   "source": [
    "\n",
    "#state for application\n",
    "class State(TypedDict):\n",
    "    question : str\n",
    "    context : List[Document]\n",
    "    answer: str\n",
    "\n",
    "\n",
    "# Define application steps\n",
    "def retrieve(state: State):\n",
    "    retrieved_docs = vector_store.similarity_search(state[\"question\"])\n",
    "    return {\"context\": retrieved_docs}\n",
    "\n",
    "\n",
    "def generate(state: State):\n",
    "    docs_content = \"\\n\\n\".join(doc.page_content for doc in state[\"context\"])\n",
    "    messages = prompt.format(\n",
    "        question= state[\"question\"], \n",
    "        context= docs_content\n",
    "        )\n",
    "    response = llm.invoke(messages)\n",
    "    return {\"answer\": response.content}\n"
   ]
  },
  {
   "cell_type": "code",
   "execution_count": 74,
   "metadata": {},
   "outputs": [],
   "source": [
    "# Compile application and test\n",
    "graph_builder = StateGraph(State).add_sequence([retrieve, generate])\n",
    "graph_builder.add_edge(START, \"retrieve\")\n",
    "graph = graph_builder.compile()"
   ]
  },
  {
   "cell_type": "code",
   "execution_count": 76,
   "metadata": {},
   "outputs": [
    {
     "name": "stdout",
     "output_type": "stream",
     "text": [
      "The University of California, Irvine is the only university mentioned in the context. Since the context mentions that the University of California comprises 10 institutions, we can infer that there are at least 10 universities in the University of California system in California. However, only one university is explicitly mentioned. \n",
      "\n",
      "So, based on the provided context, I can only confirm one university in California: \n",
      "1. University of California, Irvine \n",
      "\n",
      "I don't know the other four universities in California.\n"
     ]
    }
   ],
   "source": [
    "response = graph.invoke({\"question\": \"list 5 universities in California\"})\n",
    "print(response[\"answer\"])"
   ]
  },
  {
   "cell_type": "code",
   "execution_count": 63,
   "metadata": {},
   "outputs": [
    {
     "name": "stdout",
     "output_type": "stream",
     "text": [
      "The context only mentions 1 university: University of Maryland (https://umd.edu/). I don't know the other 4 universities.\n"
     ]
    }
   ],
   "source": [
    "state = {\"question\": \"5 universities\", \"context\": [], \"answer\": \"\"}\n",
    "state.update(retrieve(state))\n",
    "state.update(generate(state))\n",
    "\n",
    "print(state[\"answer\"])"
   ]
  },
  {
   "cell_type": "code",
   "execution_count": 64,
   "metadata": {},
   "outputs": [
    {
     "name": "stdout",
     "output_type": "stream",
     "text": [
      "[Document(id='271b21a1-0914-4fae-9200-e4fdad62f96e', metadata={'seq_num': 40, 'source': '/home/jivan-acharya/Documents/Internship/Code/RAG-app/uni_with_description.json'}, page_content='& Theology,Sociology,Civil Engineering,Education,Other Health,Veterinary Science,Chemical Engineering,Communication & Media Studies\", \"Location\": \"College Park, United States\", \"Description\": null, \"uni_url\": \"https://umd.edu/\"}'), Document(id='adc8963e-13e8-4475-a8db-22689f1e1035', metadata={'seq_num': 40, 'source': '/home/jivan-acharya/Documents/Internship/Code/RAG-app/uni_with_description.json'}, page_content='& Theology,Sociology,Civil Engineering,Education,Other Health,Veterinary Science,Chemical Engineering,Communication & Media Studies\", \"Location\": \"College Park, United States\", \"Description\": null, \"uni_url\": \"https://umd.edu/\"}'), Document(id='a51ad530-6a95-4564-8372-8557481fcdaa', metadata={'seq_num': 40, 'source': '/home/jivan-acharya/Documents/Internship/Code/RAG-app/uni_with_description.json'}, page_content='& Theology,Sociology,Civil Engineering,Education,Other Health,Veterinary Science,Chemical Engineering,Communication & Media Studies\", \"Location\": \"College Park, United States\", \"Description\": null, \"uni_url\": \"https://umd.edu/\"}'), Document(id='0cc65b8d-2ce9-4fe2-affd-8a7c954e2117', metadata={'seq_num': 40, 'source': '/home/jivan-acharya/Documents/Internship/Code/RAG-app/uni_with_description.json'}, page_content='& Theology,Sociology,Civil Engineering,Education,Other Health,Veterinary Science,Chemical Engineering,Communication & Media Studies\", \"Location\": \"College Park, United States\", \"Description\": null, \"uni_url\": \"https://umd.edu/\"}')]\n"
     ]
    }
   ],
   "source": [
    "state = {\"question\": \"5 universities\", \"context\": [], \"answer\": \"\"}\n",
    "state.update(retrieve(state))\n",
    "print(state[\"context\"])"
   ]
  },
  {
   "cell_type": "code",
   "execution_count": null,
   "metadata": {},
   "outputs": [],
   "source": []
  },
  {
   "cell_type": "code",
   "execution_count": null,
   "metadata": {},
   "outputs": [],
   "source": []
  }
 ],
 "metadata": {
  "kernelspec": {
   "display_name": "venv",
   "language": "python",
   "name": "python3"
  },
  "language_info": {
   "codemirror_mode": {
    "name": "ipython",
    "version": 3
   },
   "file_extension": ".py",
   "mimetype": "text/x-python",
   "name": "python",
   "nbconvert_exporter": "python",
   "pygments_lexer": "ipython3",
   "version": "3.11.6"
  }
 },
 "nbformat": 4,
 "nbformat_minor": 2
}
